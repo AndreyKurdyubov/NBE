{
 "cells": [
  {
   "cell_type": "markdown",
   "metadata": {},
   "source": [
    "<h2> Model of dynamics in a reservoir of excitons and free carriers </h2>\n",
    "<br>\n",
    "<div style=\"display: flex;\">\n",
    "<div style=\"width: 55%\">\n",
    "В нашей статье [<a \\href=\"https://journals.aps.org/prb/abstract/10.1103/PhysRevB.104.035414\"> PhysRevB.104.035414(2021) </a>] исследовался резервуар темных экситонов с большими волновыми векторами в плоскости квантовой ямы. С помощью методики накачка-зондирования измерялась динамика $\\Delta \\hbar \\Gamma$ (фотоиндуцированное нерадиационное уширение резонанса тяжелого экситона, см. рис. 1). \n",
    "</div>\n",
    "\n",
    "<div style=\"flex: auto; margin-left: 15px\">\n",
    "<figure>\n",
    "<img src=\"images/figure1.png\"\n",
    "     style=\"width: 400px;\"\n",
    "     alt=\"scheme\">\n",
    "<figcaption style=\"width: 400px;\"> Fig.1 - Dynamics of the nonradiative broadening of the Xhh resonance: experiment (blue dots) and simulation (red line). Caption shows the reflectivity spectrum of the sample with 14nm GaAs/AlGaAs quantum well. Vaules of $\\Delta \\hbar \\Gamma$ are extracted from preprocessing of the reflectivity spectra. </figcaption>\n",
    "</figure>\n",
    " \n",
    "<br>    \n",
    "    \n",
    "<figure>\n",
    "<img src=\"images/figure2.png\"\n",
    "     style=\"width: 300px;\"\n",
    "     alt=\"scheme\">\n",
    "<figcaption style=\"width: 400px;\"> Fig.2 - Scheme of the dynamic processes. Dispersion of heavi- and light-hole excitons (Xhh and Xlh) in the quantum well plane are shown by parabolas. Transitions and their rates are shown by arrows and greek letters, blue letters are exciton and charge carrier densities. </figcaption>\n",
    "</figure>\n",
    "</div>\n",
    "</div>"
   ]
  },
  {
   "cell_type": "markdown",
   "metadata": {},
   "source": [
    "<div>\n",
    "<h3> System of equations </h3>\n",
    "<br>\n",
    "$\n",
    "\\large\n",
    "n_{x}^{hot} = N_0 (1-k) e ^{-\\gamma_{d} t} \\\\ % (1 - k)\n",
    "\\large\n",
    "\\begin{cases}\n",
    "\\begin{align}\n",
    "&\\dot{n} = \\gamma_d n_{x}^{hot} - \\kappa_{ex} n^2 \\\\\n",
    "&\\dot{n}_x = \\kappa_{ex} n^2 - 2 \\kappa_c n n_x,\\\\\n",
    "\\end{align}\n",
    "\\end{cases}\n",
    "$\n",
    "<p><b> where </b></p>\n",
    "    \n",
    "$\n",
    "\\large\n",
    "\\begin{align}\n",
    "&n_{x}^{hot}~\\small \\text{— areal density of hot dark excitons} \\\\ \n",
    "&n~\\small \\text{— areal density of electrons (holes)} \\\\\n",
    "&n_x~\\small \\text{— areal density of (cold) dark excitons} \\\\\n",
    "\\end{align}\n",
    "$\n",
    "<p><b> Initial values: </b></p>\n",
    "    \n",
    "$\n",
    "\\large\n",
    "\\begin{align}\n",
    "&n(0) = 0 \\\\ \n",
    "&n_x(0) = N_{bgr} + k \\cdot N_0 \\\\\n",
    "\\end{align}\n",
    "$\n",
    "<p><b> Calculated nonradiative broadening: </b></p>\n",
    "    \n",
    "$\n",
    "\\large\n",
    "\\Delta \\hbar \\Gamma = \\sigma (2n + n_x + n_{x}^{hot})\n",
    "$\n",
    "<p><b> Fitting parameters </b></p>\n",
    "\n",
    "$\n",
    "\\large\n",
    "\\begin{align}\n",
    "&N_0~\\small \\text{— initial density of dark excitons scattered to the reservoir after the pump pulse absorption} \\\\ \n",
    "&k~\\small \\text{— fraction of cold excitons} \\\\\n",
    "&\\gamma_d~\\small \\text{— exciton dissociation rate} \\\\\n",
    "&\\kappa_{ex}~\\small \\text{— association rate of electrons and holes into excitons} \\\\\n",
    "&\\kappa_{c}~\\small \\text{— scattering rate of dark excitons into the light cone by charge carriers} \\\\\n",
    "\\end{align}\n",
    "$\n",
    "<p><b> Consts: </b></p>\n",
    "\n",
    "$\n",
    "\\large\n",
    "\\begin{align}\n",
    "&\\sigma \\equiv 3~\\small \\text{— broadening cross-section} \\\\ \n",
    "&N_{bgr} \\equiv \\Delta \\hbar \\Gamma_{neg. delay} \\sigma ~\\small \\text{— areal density of excitons in the dark reservoir at negative delays} \\\\\n",
    "&\\Delta \\hbar \\Gamma_{neg. delay}~\\small \\text{— experimentally defined nonradiative broadening at small negative delays} \\\\\n",
    "\\end{align}\n",
    "$\n",
    "</div>"
   ]
  },
  {
   "cell_type": "code",
   "execution_count": null,
   "metadata": {},
   "outputs": [],
   "source": []
  },
  {
   "cell_type": "code",
   "execution_count": 1,
   "metadata": {},
   "outputs": [],
   "source": [
    "%matplotlib inline\n",
    "from matplotlib import pyplot as plt \n",
    "\n",
    "import ipywidgets as widgets\n",
    "from ipywidgets import interact\n",
    "from ipywidgets import interactive\n",
    "from IPython.display import display\n",
    "\n",
    "import pandas as pd\n",
    "import numpy as np\n",
    "\n",
    "from scipy.integrate import solve_ivp\n",
    "from scipy.optimize import curve_fit\n"
   ]
  },
  {
   "cell_type": "markdown",
   "metadata": {},
   "source": [
    "### Experiemental data: pump into the state of light exciton (LX) with power P=200$\\mu$W \n"
   ]
  },
  {
   "cell_type": "code",
   "execution_count": 2,
   "metadata": {},
   "outputs": [],
   "source": [
    "# load experimental data\n",
    "data = np.loadtxt('data/11.06_LX_200mkW.txt') \n",
    "delay = data[:, 0]  # delay between pump and probe in picoseconds\n",
    "delay = delay - delay[167]  # adjust zero delay\n",
    "hgamma = data[:, 1]  # nonradiative broadening of heavy exciton\n",
    "neg = hgamma[25:100].mean()  # broadening at negative delays\n",
    "\n",
    "nstart = np.argmin(abs(delay - 42))  # start fit from delay=42 ps\n",
    "nend = -10  # last point of fit \n",
    "sigm = 3  # broadening cross-section"
   ]
  },
  {
   "cell_type": "code",
   "execution_count": 3,
   "metadata": {},
   "outputs": [
    {
     "data": {
      "image/png": "[encoded data removed]",
      "text/plain": [
       "<Figure size 432x288 with 1 Axes>"
      ]
     },
     "metadata": {
      "needs_background": "light"
     },
     "output_type": "display_data"
    }
   ],
   "source": [
    "# plot experimental data\n",
    "plt.figure(figsize=(6, 4))\n",
    "plt.plot(delay, hgamma, '.', label='P=200$\\mu$W')\n",
    "plt.plot([delay[25], delay[100]], [neg, neg], \n",
    "         'r-', linewidth=3, label='$\\Delta\\hbar\\Gamma$ at negative delays')\n",
    "plt.plot([delay[0]-300, delay[10]], [0, 0], \n",
    "         'k-', linewidth=3, label='$\\Delta\\hbar\\Gamma$ without pump')\n",
    "plt.title('Pump into light exciton', fontsize=14)\n",
    "plt.xlabel('Delay, ps', fontsize=14)\n",
    "plt.ylabel('$\\Delta\\hbar\\Gamma, \\mu eV$', fontsize=14)\n",
    "plt.legend(fontsize=12)\n",
    "plt.tick_params(labelsize=12)\n",
    "plt.xlim([-2300, 5000]);"
   ]
  },
  {
   "cell_type": "code",
   "execution_count": 4,
   "metadata": {},
   "outputs": [],
   "source": [
    "def ex_(A, dec, t):\n",
    "    return A*np.exp(-dec*t)"
   ]
  },
  {
   "cell_type": "code",
   "execution_count": 5,
   "metadata": {},
   "outputs": [],
   "source": [
    "def ivp(delay, N0, k, gd, kex, kc, b):\n",
    "    '''\n",
    "    solve initial value problem\n",
    "    model equations are set here\n",
    "    '''\n",
    "    \n",
    "    def scatter(t, y, N0, k, gd, kex, kc):\n",
    "        nx_hot = ex_(N0*(1-k), gd, t)\n",
    "        ne, nh, nx = y\n",
    "     \n",
    "        return [gd*nx_hot - kex*ne*nh, \n",
    "                gd*nx_hot - kex*ne*nh, \n",
    "                kex*ne*nh - kc*nx*(ne+nh)]\n",
    "    \n",
    "    n0 = [0, 0, b + N0*k]\n",
    "    tspan = (0, delay[-1])\n",
    "    fun = lambda t, y: scatter(t, y, N0, k, gd, kex, kc)\n",
    "    sol = solve_ivp(fun, tspan, n0, t_eval=delay)\n",
    "    \n",
    "    return sol"
   ]
  },
  {
   "cell_type": "code",
   "execution_count": 6,
   "metadata": {},
   "outputs": [],
   "source": [
    "def broad(delay, hgamma, neg, N0, k, gd, kex, kc, \n",
    "          sigm=sigm, nstart=nstart, nend=nend,\n",
    "          xlim=[-1000, 5000], ylim=[-10, 75]):\n",
    "    '''\n",
    "    simulate and plot the results\n",
    "    nstart - first point of fit\n",
    "    nend - last point of fit\n",
    "    '''\n",
    "    # experimental data for fit\n",
    "    delay_fit = delay[nstart:nend]\n",
    "    hgamma_fit = hgamma[nstart:nend]\n",
    "    \n",
    "    # simulation\n",
    "    t = np.linspace(0, delay_fit[-1], 1000)\n",
    "    sol = ivp(t, N0, k, gd, kex, kc, neg/sigm)  # solve initial value problem\n",
    "    y = sol.y\n",
    "    \n",
    "    # particle densities from simulation\n",
    "    nx_hot = ex_(N0*(1-k), gd, t)    \n",
    "    ne = y[0, :]\n",
    "    nh = y[1, :]\n",
    "    nx = y[2, :]\n",
    "    \n",
    "    # extend results for previous laser puls to show goodness of simulation for negative delays\n",
    "    t_2p = np.r_[t-13000, t]  # concat delays. Assume that repetition period is 13000 ps\n",
    "    ne_2p = np.r_[ne, ne]  # for the steady state we can just repeat our results \n",
    "    nh_2p = np.r_[nh, nh]\n",
    "    nx_2p = np.r_[nx, nx]\n",
    "    nx_hot_2p = np.r_[nx_hot, nx_hot]\n",
    "    \n",
    "    results = {\n",
    "        'time': t_2p,\n",
    "        'ne': sigm*ne_2p,\n",
    "        'nh': sigm*nh_2p,\n",
    "        'nx': sigm*nx_2p,\n",
    "        'nx_hot': sigm*nx_hot_2p,\n",
    "        'delta_hGamma': sigm*(ne_2p + nh_2p + nx_2p + nx_hot_2p),\n",
    "        'PL': kc*(ne_2p + nh_2p)*nx_2p \n",
    "    }\n",
    "    \n",
    "    params = {\n",
    "        'N0': N0,\n",
    "        'k': k,\n",
    "        'gd': gd, \n",
    "        'kex': kex, \n",
    "        'kc': kc,\n",
    "        'sigm': sigm\n",
    "    }\n",
    "    \n",
    "    # plotting\n",
    "    \n",
    "    font = {'family': 'serif',\n",
    "            'weight': 'normal',\n",
    "            'size': 16}\n",
    "    \n",
    "    fig1, ax1 = plt.subplots(figsize=(8, 5))\n",
    "    \n",
    "    plt.plot(delay, hgamma, '.', label='Data')\n",
    "    plt.plot(t_2p, sigm*nh_2p, '-m', linewidth=2, label='e,h')\n",
    "    plt.plot(t_2p, sigm*nx_2p, '-', color='#808800', linewidth=2, label='dark X')\n",
    "    plt.plot(t_2p, sigm*nx_hot_2p, '-', color='#800000', linewidth=2, label='hot-X')\n",
    "    plt.plot(t_2p, sigm*(ne_2p + nh_2p + nx_2p + nx_hot_2p), '-k', linewidth=2, label='broadening')\n",
    "      \n",
    "    plt.xlim(xlim)\n",
    "    plt.ylim(ylim)\n",
    "    plt.xticks(size=12)\n",
    "    plt.yticks(size=12)\n",
    "    plt.locator_params(axis='x', nbins=6)\n",
    "    plt.xlabel('Delay, ps', fontdict=font)\n",
    "    plt.ylabel(r'$\\Delta\\hbar\\Gamma$, $\\mu$eV', fontdict=font)\n",
    "    plt.legend(loc=1, fontsize=12)\n",
    "    \n",
    "    return results, params"
   ]
  },
  {
   "cell_type": "code",
   "execution_count": 7,
   "metadata": {},
   "outputs": [
    {
     "data": {
      "image/png": "[encoded data removed]",
      "text/plain": [
       "<Figure size 576x360 with 1 Axes>"
      ]
     },
     "metadata": {
      "needs_background": "light"
     },
     "output_type": "display_data"
    }
   ],
   "source": [
    "# simulate\n",
    "N0, k, gd, kex, kc = 5, 0.5, 5e-03, 5e-04, 5e-05  # initial values\n",
    "results = broad(delay, hgamma, neg, N0, k, gd, kex, kc, \n",
    "                nstart=210, nend=-10,\n",
    "                xlim=[-1000, 5000], ylim=[-10, 75]);"
   ]
  },
  {
   "cell_type": "code",
   "execution_count": 8,
   "metadata": {},
   "outputs": [],
   "source": [
    "def go_ivp(delay, hgamma, neg, N0, k, gd, kex, kc, sigm=sigm, nstart=nstart, nend=nend):\n",
    "    '''\n",
    "    find optimal parameters of the model to simulate the experimental data\n",
    "    '''\n",
    "    # experimental data for fit\n",
    "    delay_fit = delay[nstart:nend]\n",
    "    hgamma_fit = hgamma[nstart:nend]\n",
    "\n",
    "    def crv_fitter(xdata, P, k, gd, kex, kc):\n",
    "        sol = ivp(xdata, P, k, gd, kex, kc, neg/sigm)\n",
    "        y = sol.y\n",
    "        t = sol.t\n",
    "        nx_hot = ex_(P*(1-k), gd, t)\n",
    "        return sigm*(y[0, :] + y[1, :] + y[2, :] + nx_hot)\n",
    "\n",
    "    p0 = [N0, k, gd, kex, kc] \n",
    "    popt, pcov = curve_fit(crv_fitter, delay_fit, hgamma_fit, p0,\n",
    "                           bounds=([0.01, 0, 0, 0, 0], [100, 1, 1, 1, 1]),\n",
    "                           method='trf')\n",
    "\n",
    "    return popt, pcov"
   ]
  },
  {
   "cell_type": "code",
   "execution_count": 9,
   "metadata": {
    "scrolled": false,
    "slideshow": {
     "slide_type": "skip"
    }
   },
   "outputs": [
    {
     "data": {
      "application/vnd.jupyter.widget-view+json": {
       "model_id": "92a2ca7e5c9445afbf23623068abdfad",
       "version_major": 2,
       "version_minor": 0
      },
      "text/plain": [
       "interactive(children=(FloatSlider(value=5.0, continuous_update=False, description='N0', min=0.01, step=0.01), …"
      ]
     },
     "metadata": {},
     "output_type": "display_data"
    },
    {
     "data": {
      "application/vnd.jupyter.widget-view+json": {
       "model_id": "b7a5d30fcae6469e8524432501ea04a5",
       "version_major": 2,
       "version_minor": 0
      },
      "text/plain": [
       "Button(button_style='primary', description='Fit', style=ButtonStyle())"
      ]
     },
     "metadata": {},
     "output_type": "display_data"
    },
    {
     "data": {
      "application/vnd.jupyter.widget-view+json": {
       "model_id": "ced726ed23924ddba37df0510f5e879d",
       "version_major": 2,
       "version_minor": 0
      },
      "text/plain": [
       "Button(button_style='success', description='Save', style=ButtonStyle())"
      ]
     },
     "metadata": {},
     "output_type": "display_data"
    },
    {
     "name": "stdout",
     "output_type": "stream",
     "text": [
      "N_0=10.840, k=6.96e-01, gd=6.42e-03, kex=5.58e-04, kc=7.90e-05\n"
     ]
    }
   ],
   "source": [
    "# user interface\n",
    "N0w = widgets.FloatSlider(\n",
    "    value=N0, min=0.01, max=100, step=0.01, continuous_update=False, readout_format='.2f')\n",
    "\n",
    "kw = widgets.FloatSlider(\n",
    "    value=k, min=0, max=1, step=0.01, continuous_update=False, readout_format='.2f')\n",
    "\n",
    "gdw = widgets.FloatSlider(\n",
    "    value=gd, min=1e-6, max=1, step=1e-6, continuous_update=False, readout_format='.2e')\n",
    "\n",
    "kexw = widgets.FloatSlider(\n",
    "    value=kex, min=1e-6, max=1, step=1e-6, continuous_update=False, readout_format = '.3e')\n",
    "\n",
    "kcw = widgets.FloatSlider(\n",
    "    value=kc, min=1e-8, max=1, step=1e-8, continuous_update=False, readout_format='.3e')\n",
    "\n",
    "def fit(b):\n",
    "    popt, pcov = go_ivp(delay, hgamma, neg, N0w.value, kw.value, gdw.value, kexw.value, kcw.value)\n",
    "    N0w.value, kw.value, gdw.value, kexw.value, kcw.value = popt  # update widgets\n",
    "    print(f'N_0={N0w.value:.3f}, k={kw.value:.2e}, '\n",
    "          f'gd={gdw.value:.2e}, kex={kexw.value:.2e}, kc={kcw.value:.2e}')\n",
    "\n",
    "def saving(b):\n",
    "    results, params = w.result  # solution - densities dynamics\n",
    "    filename = '_'.join([k+f'_{v:.1g}' for k, v in params.items()])\n",
    "    df = pd.DataFrame(results)\n",
    "    \n",
    "    with open(f'results/{filename}.dat', 'w') as f:\n",
    "        f.write(f'# parameters of the model\\n# {params}\\n')\n",
    "        df.to_csv(f, line_terminator='\\n')\n",
    "        \n",
    "    print('saved to file')\n",
    "    \n",
    "fit_button = widgets.Button(description='Fit', button_style='primary')\n",
    "fit_button.on_click(fit)\n",
    "\n",
    "save_button = widgets.Button(description='Save', button_style='success')\n",
    "save_button.on_click(saving)\n",
    "    \n",
    "broad_fun = lambda N0, k, gd, kex, kc: broad(delay, hgamma, neg, N0, k, gd, kex, kc) \n",
    "w = interactive(broad_fun, N0=N0w, k=kw, gd=gdw, kex=kexw, kc=kcw)\n",
    "\n",
    "display(w)\n",
    "display(fit_button)\n",
    "display(save_button)\n",
    "\n"
   ]
  },
  {
   "cell_type": "code",
   "execution_count": null,
   "metadata": {},
   "outputs": [],
   "source": []
  }
 ],
 "metadata": {
  "kernelspec": {
   "display_name": "Python 3 (ipykernel)",
   "language": "python",
   "name": "python3"
  },
  "language_info": {
   "codemirror_mode": {
    "name": "ipython",
    "version": 3
   },
   "file_extension": ".py",
   "mimetype": "text/x-python",
   "name": "python",
   "nbconvert_exporter": "python",
   "pygments_lexer": "ipython3",
   "version": "3.10.3"
  }
 },
 "nbformat": 4,
 "nbformat_minor": 2
}
